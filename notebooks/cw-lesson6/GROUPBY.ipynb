{
    "metadata": {
        "kernelspec": {
            "name": "SQL",
            "display_name": "SQL",
            "language": "sql"
        },
        "language_info": {
            "name": "sql",
            "version": ""
        }
    },
    "nbformat_minor": 2,
    "nbformat": 4,
    "cells": [
        {
            "cell_type": "code",
            "source": [
                "USE AdventureWorks2017\r\n",
                "\r\n",
                "SELECT YEAR(OrderDate) AS OrderDate, SUM(SubTotal) AS Income \r\n",
                "FROM Sales.SalesOrderHeader AS SH\r\n",
                "GROUP BY YEAR(SH.OrderDate)"
            ],
            "metadata": {
                "azdata_cell_guid": "12351fbe-8407-40cb-8bfb-1f4383972809"
            },
            "outputs": [],
            "execution_count": null
        },
        {
            "cell_type": "code",
            "source": [
                "USE AdventureWorks2017\r\n",
                "\r\n",
                "SELECT\r\n",
                "\tYEAR(OrderDate) AS OrderYear,\r\n",
                "\tMONTH(OrderDate) AS OrderMonth,\r\n",
                "\tSUM(SubTotal) AS Income\r\n",
                "FROM Sales.SalesOrderHeader\r\n",
                "GROUP BY YEAR(OrderDate), MONTH(OrderDate)\r\n",
                "ORDER BY OrderYear, OrderMonth;"
            ],
            "metadata": {
                "azdata_cell_guid": "de984156-db46-4bc6-87fb-e12ca7da5e0f"
            },
            "outputs": [],
            "execution_count": null
        },
        {
            "cell_type": "code",
            "source": [
                "USE AdventureWorks2017;\r\n",
                "\r\n",
                "SELECT\r\n",
                "\tYEAR(OrderDate) AS OrderYear,\r\n",
                "\tNULL AS OrderMonth, --Dummy Column\r\n",
                "\tSUM(SubTotal) AS Incomes\r\n",
                "FROM Sales.SalesOrderHeader\r\n",
                "GROUP BY YEAR(OrderDate)\r\n",
                "UNION ALL\r\n",
                "SELECT\r\n",
                "\tYEAR(OrderDate) AS OrderYear,\r\n",
                "\tMONTH(OrderDate) AS OrderMonth,\r\n",
                "\tSUM(SubTotal) AS Incomes\r\n",
                "FROM Sales.SalesOrderHeader\r\n",
                "GROUP BY YEAR(OrderDate), MONTH(OrderDate)\r\n",
                "ORDER BY OrderYear, OrderMonth;\r\n",
                "GO\r\n",
                "\r\n",
                ""
            ],
            "metadata": {
                "azdata_cell_guid": "3ee7c565-ca4d-4b46-a9af-4b7186a5853f"
            },
            "outputs": [],
            "execution_count": null
        },
        {
            "cell_type": "code",
            "source": [
                "USE AdventureWorks2017\r\n",
                "\r\n",
                "SELECT\r\n",
                "    YEAR(OrderDate),\r\n",
                "    MONTH(OrderDate),\r\n",
                "    SUM(SubTotal)\r\n",
                "FROM Sales.SalesOrderHeader\r\n",
                "GROUP BY GROUPING SETS \r\n",
                "(\r\n",
                "    YEAR(OrderDate),\r\n",
                "    (YEAR(OrderDate), MONTH(OrderDate)),\r\n",
                "    ()\r\n",
                ")"
            ],
            "metadata": {
                "azdata_cell_guid": "08c3a83f-f622-4d0f-936a-1717861d8f23"
            },
            "outputs": [],
            "execution_count": null
        },
        {
            "cell_type": "code",
            "source": [
                "PRINT 'Yo';\r\n",
                "GO 100"
            ],
            "metadata": {
                "azdata_cell_guid": "4c47dea1-6007-4285-bdbc-0fac37ff4785",
                "tags": [
                    "hide_input"
                ]
            },
            "outputs": [],
            "execution_count": null
        }
    ]
}