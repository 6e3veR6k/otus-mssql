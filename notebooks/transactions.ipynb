{
    "metadata": {
        "kernelspec": {
            "name": "SQL",
            "display_name": "SQL",
            "language": "sql"
        },
        "language_info": {
            "name": "sql",
            "version": ""
        }
    },
    "nbformat_minor": 2,
    "nbformat": 4,
    "cells": [
        {
            "cell_type": "markdown",
            "source": [
                "# Transactions\r\n",
                "\r\n",
                "## Creates temp tables"
            ],
            "metadata": {
                "azdata_cell_guid": "62474b82-25a9-44f0-873b-a401ab091ec5"
            }
        },
        {
            "cell_type": "code",
            "source": [
                "USE AdventureWorks2017\r\n",
                "\r\n",
                "DROP TABLE IF EXISTS Temp.MyUserInfo\r\n",
                "DROP TABLE IF EXISTS Temp.MyUserPhone\r\n",
                "DROP TABLE IF EXISTS Temp.MyUserName\r\n",
                "\r\n",
                "CREATE TABLE Temp.MyUserName\r\n",
                "(\r\n",
                "    Id int IDENTITY PRIMARY KEY,\r\n",
                "    FirstName NVARCHAR(35),\r\n",
                "    SecondName NVARCHAR(50)\r\n",
                ")\r\n",
                "\r\n",
                "\r\n",
                "CREATE TABLE Temp.MyUserPhone\r\n",
                "(\r\n",
                "    Id int IDENTITY PRIMARY KEY,\r\n",
                "    UserId int FOREIGN KEY REFERENCES Temp.MyUserName(Id) UNIQUE,\r\n",
                "    TelephoneNumber CHAR(12)\r\n",
                "    CHECK (TelephoneNumber LIKE ('([0-9][0-9][0-9])[0-9][0-9][0-9][0-9][0-9][0-9][0-9]'))\r\n",
                ")\r\n",
                "\r\n",
                "\r\n",
                "CREATE TABLE Temp.MyUserInfo\r\n",
                "(\r\n",
                "    Id int IDENTITY PRIMARY KEY,\r\n",
                "    UserId int FOREIGN KEY REFERENCES Temp.MyUserName(Id),\r\n",
                "    BirthDate DATE\r\n",
                ")\r\n",
                "\r\n",
                "\r\n",
                ""
            ],
            "metadata": {
                "azdata_cell_guid": "22b7f5d2-6a73-4983-8463-4076bd01503b",
                "tags": [
                    "hide_input"
                ]
            },
            "outputs": [],
            "execution_count": null
        },
        {
            "cell_type": "markdown",
            "source": [
                "## Default transactions examples"
            ],
            "metadata": {
                "azdata_cell_guid": "845b650b-ba21-425d-aad7-1348df0d6ce8"
            }
        },
        {
            "cell_type": "code",
            "source": [
                "USE AdventureWorks2017\r\n",
                "BEGIN TRANSACTION\r\n",
                "    INSERT INTO Temp.MyUserName VALUES('Nikita', 'Ivanov')\r\n",
                "COMMIT TRANSACTION\r\n",
                "\r\n",
                "SELECT *\r\n",
                "FROM Temp.MyUserName"
            ],
            "metadata": {
                "azdata_cell_guid": "9269cce4-46a1-415e-aa92-858c487dcb5c",
                "tags": [
                    "hide_input"
                ]
            },
            "outputs": [],
            "execution_count": null
        },
        {
            "cell_type": "code",
            "source": [
                "USE AdventureWorks2017\r\n",
                "\r\n",
                "BEGIN TRANSACTION\r\n",
                "\r\n",
                "    DECLARE @Id int;\r\n",
                "\r\n",
                "    INSERT INTO Temp.MyUserName\r\n",
                "    VALUES('Nona', 'Grishaeva')\r\n",
                "\r\n",
                "    SET @Id = @@IDENTITY\r\n",
                "\r\n",
                "    INSERT INTO Temp.MyUserPhone\r\n",
                "    VALUES(@Id, '(098)1988954')\r\n",
                "\r\n",
                "    INSERT INTO Temp.MyUserInfo\r\n",
                "    VALUES(@Id, '19560923')\r\n",
                "COMMIT TRANSACTION\r\n",
                "\r\n",
                ""
            ],
            "metadata": {
                "azdata_cell_guid": "cdb61791-b3de-48d4-86d5-057ef1c4d529",
                "tags": [
                    "hide_input"
                ]
            },
            "outputs": [],
            "execution_count": null
        },
        {
            "cell_type": "markdown",
            "source": [
                "## Example save point transaction"
            ],
            "metadata": {
                "azdata_cell_guid": "0193a61a-4dc9-4700-9463-41e6e6b70de0"
            }
        },
        {
            "cell_type": "code",
            "source": [
                "USE AdventureWorks2017\r\n",
                "\r\n",
                "BEGIN TRANSACTION\r\n",
                "\r\n",
                "    DECLARE @Id INT;\r\n",
                "\r\n",
                "    INSERT INTO Temp.MyUserName\r\n",
                "    VALUES ('Grinich', 'Fredmort')\r\n",
                "\r\n",
                "    SET @Id = @@IDENTITY\r\n",
                "\r\n",
                "    SAVE TRANSACTION SavePoint\r\n",
                "\r\n",
                "    INSERT INTO Temp.MyUserInfo\r\n",
                "    VALUES(@Id, '19520321')\r\n",
                "\r\n",
                "\r\n",
                "    INSERT INTO Temp.MyUserPhone\r\n",
                "    VALUES(@Id, '(067)8660986')\r\n",
                "\r\n",
                "COMMIT TRANSACTION"
            ],
            "metadata": {
                "azdata_cell_guid": "6bd59643-418f-40cd-9e05-df9986b80b8c",
                "tags": [
                    "hide_input"
                ]
            },
            "outputs": [],
            "execution_count": null
        },
        {
            "cell_type": "markdown",
            "source": [
                "## Example with create procedure"
            ],
            "metadata": {
                "azdata_cell_guid": "7caa7567-17d7-47a4-b7d6-4563b539be57"
            }
        },
        {
            "cell_type": "code",
            "source": [
                "USE AdventureWorks2017\r\n",
                "GO\r\n",
                "\r\n",
                "\r\n",
                "DROP PROC IF EXISTS InsertUserData\r\n",
                "GO\r\n",
                "CREATE PROCEDURE InsertUserData \r\n",
                "    @UserFirstName NVARCHAR(25),\r\n",
                "    @UserSecondName NVARCHAR(25),\r\n",
                "    @UserPhone CHAR(12),\r\n",
                "    @UserBirthDate DATE\r\n",
                "AS\r\n",
                "BEGIN\r\n",
                "    DECLARE @Id INT;\r\n",
                "\r\n",
                "    BEGIN TRANSACTION\r\n",
                "        INSERT INTO Temp.MyUserName VALUES (@UserFirstName, @UserSecondName);\r\n",
                "        SET @Id = @@IDENTITY\r\n",
                "        INSERT INTO Temp.MyUserPhone VALUES (@Id, @UserPhone)\r\n",
                "        INSERT INTO Temp.MyUserInfo VALUES (@Id, @UserBirthDate)\r\n",
                "\r\n",
                "        IF EXISTS (SELECT Id FROM Temp.MyUserName WHERE FirstName = @UserFirstName AND SecondName = @UserSecondName AND Id != @Id )\r\n",
                "            BEGIN ROLLBACK TRANSACTION\r\n",
                "            RETURN 1\r\n",
                "            END\r\n",
                "\r\n",
                "    COMMIT TRANSACTION\r\n",
                "\r\n",
                "END"
            ],
            "metadata": {
                "azdata_cell_guid": "b1df1b7f-8c16-487e-8242-c95f4e8bb10f",
                "tags": []
            },
            "outputs": [],
            "execution_count": null
        },
        {
            "cell_type": "code",
            "source": [
                "USE AdventureWorks2017\r\n",
                "\r\n",
                "EXEC InsertUserData @UserFirstName = 'Grinch', @UserSecondName = 'Geen', @UserPhone = '(055)9055854', @UserBirthDate = '19900812'"
            ],
            "metadata": {
                "azdata_cell_guid": "ae77fa22-2eb6-44a2-a547-3ecc69a431b5"
            },
            "outputs": [
                {
                    "output_type": "display_data",
                    "data": {
                        "text/html": "(1 row affected)"
                    },
                    "metadata": {}
                },
                {
                    "output_type": "display_data",
                    "data": {
                        "text/html": "(1 row affected)"
                    },
                    "metadata": {}
                },
                {
                    "output_type": "display_data",
                    "data": {
                        "text/html": "(1 row affected)"
                    },
                    "metadata": {}
                },
                {
                    "output_type": "display_data",
                    "data": {
                        "text/html": "Total execution time: 00:00:00.013"
                    },
                    "metadata": {}
                }
            ],
            "execution_count": 25
        },
        {
            "cell_type": "code",
            "source": [
                "USE AdventureWorks2017\r\n",
                "\r\n",
                "\r\n",
                "SELECT *\r\n",
                "FROM Temp.MyUserName as N\r\n",
                "LEFT JOIN Temp.MyUserPhone as P on P.UserId = N.Id\r\n",
                "LEFT JOIN Temp.MyUserInfo as I on I.UserId = N.Id\r\n",
                "\r\n",
                "\r\n",
                "\r\n",
                "-- TRUNCATE TABLE Temp.MyUserPhone\r\n",
                "-- TRUNCATE TABLE Temp.MyUserInfo\r\n",
                "-- TRUNCATE TABLE Temp.MyUserName\r\n",
                ""
            ],
            "metadata": {
                "azdata_cell_guid": "f8593185-a324-4afc-8814-485182f6d72f"
            },
            "outputs": [
                {
                    "output_type": "display_data",
                    "data": {
                        "text/html": "(3 rows affected)"
                    },
                    "metadata": {}
                },
                {
                    "output_type": "display_data",
                    "data": {
                        "text/html": "Total execution time: 00:00:00.018"
                    },
                    "metadata": {}
                },
                {
                    "output_type": "execute_result",
                    "metadata": {},
                    "execution_count": 26,
                    "data": {
                        "application/vnd.dataresource+json": {
                            "schema": {
                                "fields": [
                                    {
                                        "name": "Id"
                                    },
                                    {
                                        "name": "FirstName"
                                    },
                                    {
                                        "name": "SecondName"
                                    },
                                    {
                                        "name": "Id"
                                    },
                                    {
                                        "name": "UserId"
                                    },
                                    {
                                        "name": "TelephoneNumber"
                                    },
                                    {
                                        "name": "Id"
                                    },
                                    {
                                        "name": "UserId"
                                    },
                                    {
                                        "name": "BirthDate"
                                    }
                                ]
                            },
                            "data": [
                                {
                                    "0": "1",
                                    "1": "Nona",
                                    "2": "Grishaeva",
                                    "3": "NULL",
                                    "4": "NULL",
                                    "5": "NULL",
                                    "6": "NULL",
                                    "7": "NULL",
                                    "8": "NULL"
                                },
                                {
                                    "0": "5",
                                    "1": "Daemon",
                                    "2": "Tools",
                                    "3": "1",
                                    "4": "5",
                                    "5": "(095)9077854",
                                    "6": "1",
                                    "7": "5",
                                    "8": "1976-05-02"
                                },
                                {
                                    "0": "7",
                                    "1": "Grinch",
                                    "2": "Geen",
                                    "3": "3",
                                    "4": "7",
                                    "5": "(055)9055854",
                                    "6": "3",
                                    "7": "7",
                                    "8": "1990-08-12"
                                }
                            ]
                        },
                        "text/html": "<table><tr><th>Id</th><th>FirstName</th><th>SecondName</th><th>Id</th><th>UserId</th><th>TelephoneNumber</th><th>Id</th><th>UserId</th><th>BirthDate</th></tr><tr><td>1</td><td>Nona</td><td>Grishaeva</td><td>NULL</td><td>NULL</td><td>NULL</td><td>NULL</td><td>NULL</td><td>NULL</td></tr><tr><td>5</td><td>Daemon</td><td>Tools</td><td>1</td><td>5</td><td>(095)9077854</td><td>1</td><td>5</td><td>1976-05-02</td></tr><tr><td>7</td><td>Grinch</td><td>Geen</td><td>3</td><td>7</td><td>(055)9055854</td><td>3</td><td>7</td><td>1990-08-12</td></tr></table>"
                    }
                }
            ],
            "execution_count": 26
        }
    ]
}