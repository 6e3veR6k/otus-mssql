{
    "metadata": {
        "kernelspec": {
            "name": "SQL",
            "display_name": "SQL",
            "language": "sql"
        },
        "language_info": {
            "name": "sql",
            "version": ""
        }
    },
    "nbformat_minor": 2,
    "nbformat": 4,
    "cells": [
        {
            "cell_type": "markdown",
            "source": [
                "# Порядок выполнения запроса SELECT и план запроса в MS SQL Server"
            ],
            "metadata": {
                "azdata_cell_guid": "60e41e95-971c-4c87-bef2-d074b0aa6976"
            }
        },
        {
            "cell_type": "markdown",
            "source": [
                "1. Create sequence (1,1) - Temp.Sequence and table with clustered index on Id and index on color - Temp.Skittles "
            ],
            "metadata": {
                "azdata_cell_guid": "5100f8e5-e35c-4e69-994b-fb600e075f35"
            }
        },
        {
            "cell_type": "code",
            "source": [
                "drop sequence if exists Temp.IdSequence\r\n",
                "create sequence Temp.IdSequence\r\n",
                "as bigint start with 1 increment by 1;\r\n",
                "\r\n",
                "\r\n",
                "if OBJECT_ID('Temp.Skittles', 'U') is not NULL\r\n",
                "drop table Temp.Skittles\r\n",
                "\r\n",
                "create table Temp.Skittles (\r\n",
                "    Id int not null,\r\n",
                "    Color varchar(25),\r\n",
                "    Taste varchar(25)\r\n",
                ")\r\n",
                "\r\n",
                "create clustered index IX_Skittles_Id on Temp.Skittles(Id)\r\n",
                "create index IX_Skittles_Color on Temp.Skittles(Color)\r\n",
                ""
            ],
            "metadata": {
                "azdata_cell_guid": "0588dad2-6fad-4655-ab40-e7fce17f4650",
                "tags": [
                    "hide_input"
                ]
            },
            "outputs": [],
            "execution_count": null
        },
        {
            "cell_type": "markdown",
            "source": [
                "2. Insert temp values into Temp.Skittles"
            ],
            "metadata": {
                "azdata_cell_guid": "5d437432-046f-4740-9fc2-6cf47dc6a7a5"
            }
        },
        {
            "cell_type": "code",
            "source": [
                "insert into Temp.Skittles values \r\n",
                "    (next value for Temp.IdSequence, 'red', 'cherry'),\r\n",
                "    (next value for Temp.IdSequence, 'blue', 'strange'),\r\n",
                "    (next value for Temp.IdSequence, 'yellow', 'lemon'),\r\n",
                "    (next value for Temp.IdSequence, 'green', 'apple'),\r\n",
                "    (next value for Temp.IdSequence, 'orange', 'orange')"
            ],
            "metadata": {
                "azdata_cell_guid": "b6c9d7c3-2932-468d-a620-f12625b2d3a3",
                "tags": [
                    "hide_input"
                ]
            },
            "outputs": [],
            "execution_count": null
        },
        {
            "cell_type": "code",
            "source": [
                ""
            ],
            "metadata": {
                "azdata_cell_guid": "e8887028-8062-4002-ba48-5b592aa9f483"
            },
            "outputs": [],
            "execution_count": null
        }
    ]
}